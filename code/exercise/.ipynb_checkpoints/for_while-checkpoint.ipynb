{
 "cells": [
  {
   "cell_type": "markdown",
   "metadata": {},
   "source": [
    "# 条件与循环\n",
    "给定下面两个列表 attributes 和 values，要求针对 values 中每一组子列表 value，输出其和 attributes 中的键对应后的字典，最后返回字典组成的列表。"
   ]
  },
  {
   "cell_type": "code",
   "execution_count": 5,
   "metadata": {},
   "outputs": [],
   "source": [
    "attributes = ['name', 'dob', 'gender']\n",
    "values = [['jason', '2000-01-01', 'male'], ['mike', '1999-01-01', 'male'], ['nancy', '2001-02-01', 'female']]"
   ]
  },
  {
   "cell_type": "markdown",
   "metadata": {},
   "source": [
    "### expected output:\n",
    "[{'name': 'jason', 'dob': '2000-01-01', 'gender': 'male'}, \n",
    "{'name': 'mike', 'dob': '1999-01-01', 'gender': 'male'}, \n",
    "{'name': 'nancy', 'dob': '2001-02-01', 'gender': 'female'}]"
   ]
  },
  {
   "cell_type": "markdown",
   "metadata": {},
   "source": [
    "1. 多行办法"
   ]
  },
  {
   "cell_type": "code",
   "execution_count": 8,
   "metadata": {},
   "outputs": [
    {
     "name": "stdout",
     "output_type": "stream",
     "text": [
      "[{'name': 'jason', 'dob': '2000-01-01', 'gender': 'male'}, {'name': 'mike', 'dob': '1999-01-01', 'gender': 'male'}, {'name': 'nancy', 'dob': '2001-02-01', 'gender': 'female'}]\n"
     ]
    }
   ],
   "source": [
    "outlist=[]\n",
    "for value_1 in values:\n",
    "    outdict={}\n",
    "    for i in range(0,len(attributes)):\n",
    "        outdict[attributes[i]] = value_1[i]\n",
    "    outlist.append(outdict)\n",
    "\n",
    "print(outlist)"
   ]
  },
  {
   "cell_type": "markdown",
   "metadata": {},
   "source": [
    "2.单行办法"
   ]
  },
  {
   "cell_type": "code",
   "execution_count": 9,
   "metadata": {},
   "outputs": [
    {
     "data": {
      "text/plain": [
       "[{'name': 'jason', 'dob': '2000-01-01', 'gender': 'male'},\n",
       " {'name': 'mike', 'dob': '1999-01-01', 'gender': 'male'},\n",
       " {'name': 'nancy', 'dob': '2001-02-01', 'gender': 'female'}]"
      ]
     },
     "execution_count": 9,
     "metadata": {},
     "output_type": "execute_result"
    }
   ],
   "source": [
    "[dict(zip(attributes, v)) for v in values]"
   ]
  },
  {
   "cell_type": "markdown",
   "metadata": {},
   "source": [
    "解释：zip函数的使用    \n",
    "* zip()\n",
    "* zip(*zipped)"
   ]
  },
  {
   "cell_type": "code",
   "execution_count": 10,
   "metadata": {},
   "outputs": [
    {
     "name": "stdout",
     "output_type": "stream",
     "text": [
      "type of a_b_zip is <class 'zip'>\n",
      "[(1, 4), (2, 5), (3, 6)]\n",
      "------------------------------------------\n",
      "[(1, 4), (2, 5), (3, 6)]\n"
     ]
    }
   ],
   "source": [
    "a = [1, 2, 3]\n",
    "b = [4, 5, 6]\n",
    "c = [4, 5, 6, 7, 8]\n",
    "\n",
    "a_b_zip = zip(a, b)  # 打包为元组的列表,而且元素个数与最短的列表一致\n",
    "print(\"type of a_b_zip is %s\" % type(a_b_zip))  # 输出zip函数的返回对象类型\n",
    "a_b_zip = list(a_b_zip)  # 因为zip函数返回一个zip类型对象，所以需要转换为list类型\n",
    "print(a_b_zip)\n",
    "print(\"------------------------------------------\")\n",
    "a_c_zip = zip(a, c)\n",
    "a_c_zip = list(a_c_zip)\n",
    "print(a_c_zip)"
   ]
  },
  {
   "cell_type": "code",
   "execution_count": 12,
   "metadata": {},
   "outputs": [
    {
     "name": "stdout",
     "output_type": "stream",
     "text": [
      "type of iterator is <class 'zip'>\n",
      "[('a1', 'b1', 'c1'), ('a2', 'b2', 'c2'), ('a3', 'b3', 'c3')]\n",
      "------------------------------------------\n",
      "a_b_zip ： [(1, 4), (2, 5), (3, 6)]\n",
      "zip(*a_b_zip) ： [(1, 2, 3), (4, 5, 6)]\n"
     ]
    }
   ],
   "source": [
    "nums = [['a1', 'a2', 'a3'], ['b1', 'b2', 'b3'], ['c1', 'c2', 'c3']]\n",
    "iterator = zip(*nums)  # 参数为list数组时，是压缩数据，相当于zip()函数\n",
    "print(\"type of iterator is %s\" % type(iterator))  # 输出zip(*zipped)函数返回对象的类型\n",
    "iterator = list(iterator)  # 因为zip(*zipped)函数返回一个zip类型对象，所以需要转换为list类型\n",
    "print(iterator)\n",
    "print(\"------------------------------------------\")\n",
    "print(\"a_b_zip ：\", a_b_zip)\n",
    "print(\"zip(*a_b_zip) ：\", list(zip(*a_b_zip)))"
   ]
  }
 ],
 "metadata": {
  "kernelspec": {
   "display_name": "Python 3",
   "language": "python",
   "name": "python3"
  },
  "language_info": {
   "codemirror_mode": {
    "name": "ipython",
    "version": 3
   },
   "file_extension": ".py",
   "mimetype": "text/x-python",
   "name": "python",
   "nbconvert_exporter": "python",
   "pygments_lexer": "ipython3",
   "version": "3.7.3"
  }
 },
 "nbformat": 4,
 "nbformat_minor": 4
}
